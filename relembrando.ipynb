{
 "cells": [
  {
   "cell_type": "code",
   "execution_count": 25,
   "metadata": {},
   "outputs": [
    {
     "data": {
      "image/png": "[encoded data removed]",
      "text/latex": [
       "$\\displaystyle 2 \\sqrt{2}$"
      ],
      "text/plain": [
       "2⋅√2"
      ]
     },
     "execution_count": 25,
     "metadata": {},
     "output_type": "execute_result"
    }
   ],
   "source": [
    "import sympy\n",
    "\n",
    "sympy.sqrt(8)\n"
   ]
  },
  {
   "cell_type": "code",
   "execution_count": 26,
   "metadata": {},
   "outputs": [],
   "source": [
    "from sympy import *\n",
    "\n",
    "x = symbols('X')\n",
    "\n",
    "x,y,z,t = symbols('x,y,z,t')"
   ]
  },
  {
   "cell_type": "code",
   "execution_count": 27,
   "metadata": {},
   "outputs": [
    {
     "data": {
      "image/png": "[encoded data removed]",
      "text/latex": [
       "$\\displaystyle e^{x} \\sin{\\left(x \\right)} + e^{x} \\cos{\\left(x \\right)}$"
      ],
      "text/plain": [
       " x           x       \n",
       "ℯ ⋅sin(x) + ℯ ⋅cos(x)"
      ]
     },
     "execution_count": 27,
     "metadata": {},
     "output_type": "execute_result"
    }
   ],
   "source": [
    "diff(sin(x)*exp(x), x)"
   ]
  },
  {
   "cell_type": "code",
   "execution_count": 28,
   "metadata": {},
   "outputs": [
    {
     "data": {
      "image/png": "[encoded data removed]",
      "text/latex": [
       "$\\displaystyle \\left[ \\frac{- b + \\sqrt{- 4 a c + b^{2}}}{2 a}, \\  - \\frac{b + \\sqrt{- 4 a c + b^{2}}}{2 a}\\right]$"
      ],
      "text/plain": [
       "⎡        _____________   ⎛       _____________⎞ ⎤\n",
       "⎢       ╱           2    ⎜      ╱           2 ⎟ ⎥\n",
       "⎢-b + ╲╱  -4⋅a⋅c + b    -⎝b + ╲╱  -4⋅a⋅c + b  ⎠ ⎥\n",
       "⎢─────────────────────, ────────────────────────⎥\n",
       "⎣         2⋅a                     2⋅a           ⎦"
      ]
     },
     "execution_count": 28,
     "metadata": {},
     "output_type": "execute_result"
    }
   ],
   "source": [
    "a, b, c = symbols('a, b, c')\n",
    "sol = solve( a*x**2 + b*x + c, x )\n",
    "sol"
   ]
  },
  {
   "cell_type": "code",
   "execution_count": 29,
   "metadata": {},
   "outputs": [
    {
     "data": {
      "image/png": "[encoded data removed]",
      "text/latex": [
       "$\\displaystyle \\left[ 2, \\  -4\\right]$"
      ],
      "text/plain": [
       "[2, -4]"
      ]
     },
     "execution_count": 29,
     "metadata": {},
     "output_type": "execute_result"
    }
   ],
   "source": [
    "coefs = {'a': 1, 'b': 2, 'c': -8}\n",
    "sol[0].subs(coefs)\n",
    "\n",
    "[s.subs(coefs) for s in sol]\n"
   ]
  },
  {
   "cell_type": "code",
   "execution_count": 30,
   "metadata": {},
   "outputs": [
    {
     "data": {
      "image/png": "[encoded data removed]",
      "text/latex": [
       "$\\displaystyle \\frac{x^{2} + 2 x + 1}{x + 1}$"
      ],
      "text/plain": [
       " 2          \n",
       "x  + 2⋅x + 1\n",
       "────────────\n",
       "   x + 1    "
      ]
     },
     "execution_count": 30,
     "metadata": {},
     "output_type": "execute_result"
    }
   ],
   "source": [
    "expression = (x**2 + 2*x + 1) / (x + 1)\n",
    "expression"
   ]
  },
  {
   "cell_type": "code",
   "execution_count": 31,
   "metadata": {},
   "outputs": [
    {
     "data": {
      "image/png": "[encoded data removed]",
      "text/latex": [
       "$\\displaystyle x + 1$"
      ],
      "text/plain": [
       "x + 1"
      ]
     },
     "execution_count": 31,
     "metadata": {},
     "output_type": "execute_result"
    }
   ],
   "source": [
    "simplified_expr = simplify(expression)\n",
    "simplified_expr"
   ]
  },
  {
   "cell_type": "code",
   "execution_count": 32,
   "metadata": {},
   "outputs": [],
   "source": [
    "import sympy as sp\n",
    "\n",
    "x,y,z = symbols('x,y,z')\n",
    "\n",
    "f = 1 / (x**2 + y**2+z**2+36)**2"
   ]
  },
  {
   "cell_type": "code",
   "execution_count": 33,
   "metadata": {},
   "outputs": [
    {
     "data": {
      "text/latex": [
       "$\\displaystyle \\int\\limits_{-\\infty}^{\\infty} \\begin{cases} \\frac{\\pi \\left(\\int\\limits_{-\\infty}^{\\infty} \\frac{y^{2}}{\\operatorname{polar\\_lift}^{\\frac{5}{2}}{\\left(y^{2} + z^{2} + 36 \\right)}}\\, dy + \\int\\limits_{-\\infty}^{\\infty} \\frac{z^{2}}{\\operatorname{polar\\_lift}^{\\frac{5}{2}}{\\left(y^{2} + z^{2} + 36 \\right)}}\\, dy + \\int\\limits_{-\\infty}^{\\infty} \\frac{36}{\\operatorname{polar\\_lift}^{\\frac{5}{2}}{\\left(y^{2} + z^{2} + 36 \\right)}}\\, dy\\right)}{2} & \\text{for}\\: \\left(\\left|{\\arg{\\left(y^{2} + z^{2} + 36 \\right)}}\\right| < \\pi \\wedge \\frac{1}{y^{2} + z^{2} + 36} \\neq 0 \\wedge \\left|{\\arg{\\left(y^{2} + z^{2} + 36 \\right)}}\\right| \\neq \\pi\\right) \\vee \\left|{\\arg{\\left(y^{2} + z^{2} + 36 \\right)}}\\right| < \\pi \\\\\\int\\limits_{-\\infty}^{\\infty}\\int\\limits_{-\\infty}^{\\infty} \\frac{1}{\\left(x^{2} + y^{2} + z^{2} + 36\\right)^{2}}\\, dx\\, dy & \\text{otherwise} \\end{cases}\\, dz$"
      ],
      "text/plain": [
       "∞                                                                             \n",
       "⌠                                                                             \n",
       "⎮  ⎧  ⎛∞                                   ∞                                  \n",
       "⎮  ⎪  ⎜⌠                                   ⌠                                  \n",
       "⎮  ⎪  ⎜⎮                2                  ⎮                2                 \n",
       "⎮  ⎪  ⎜⎮               y                   ⎮               z                  \n",
       "⎮  ⎪π⋅⎜⎮  ─────────────────────────── dy + ⎮  ─────────────────────────── dy +\n",
       "⎮  ⎪  ⎜⎮            5/2⎛ 2    2     ⎞      ⎮            5/2⎛ 2    2     ⎞     \n",
       "⎮  ⎪  ⎜⎮  polar_lift   ⎝y  + z  + 36⎠      ⎮  polar_lift   ⎝y  + z  + 36⎠     \n",
       "⎮  ⎪  ⎜⌡                                   ⌡                                  \n",
       "⎮  ⎪  ⎝-∞                                  -∞                                 \n",
       "⎮  ⎪──────────────────────────────────────────────────────────────────────────\n",
       "⎮  ⎪                                                      2                   \n",
       "⎮  ⎨                                                                          \n",
       "⎮  ⎪                                                                          \n",
       "⎮  ⎪                                      ∞  ∞                                \n",
       "⎮  ⎪                                      ⌠  ⌠                                \n",
       "⎮  ⎪                                      ⎮  ⎮           1                    \n",
       "⎮  ⎪                                      ⎮  ⎮  ──────────────────── dx dy    \n",
       "⎮  ⎪                                      ⎮  ⎮                     2          \n",
       "⎮  ⎪                                      ⎮  ⎮  ⎛ 2    2    2     ⎞           \n",
       "⎮  ⎪                                      ⎮  ⎮  ⎝x  + y  + z  + 36⎠           \n",
       "⎮  ⎪                                      ⌡  ⌡                                \n",
       "⎮  ⎪                                      -∞ -∞                               \n",
       "⎮  ⎩                                                                          \n",
       "⌡                                                                             \n",
       "-∞                                                                            \n",
       "\n",
       "                                                                              \n",
       "                                                                              \n",
       "                                  ⎞                                           \n",
       " ∞                                ⎟                                           \n",
       " ⌠                                ⎟                                           \n",
       " ⎮               36               ⎟                                           \n",
       " ⎮  ─────────────────────────── dy⎟                                           \n",
       " ⎮            5/2⎛ 2    2     ⎞   ⎟                                           \n",
       " ⎮  polar_lift   ⎝y  + z  + 36⎠   ⎟                                           \n",
       " ⌡                                ⎟                                           \n",
       " -∞                               ⎠      ⎛│   ⎛ 2    2     ⎞│            1    \n",
       "───────────────────────────────────  for ⎜│arg⎝y  + z  + 36⎠│ < π ∧ ──────────\n",
       "                                         ⎜                           2    2   \n",
       "                                         ⎝                          y  + z  + \n",
       "                                                                              \n",
       "                                                                              \n",
       "                                                                              \n",
       "                                                                              \n",
       "                                                                              \n",
       "                                                                              \n",
       "                                                                              \n",
       "                                                                              \n",
       "                                                                              \n",
       "                                                                              \n",
       "                                                                              \n",
       "                                                                              \n",
       "                                                                              \n",
       "\n",
       "                                                              \n",
       "                                                              \n",
       "                                                              \n",
       "                                                              \n",
       "                                                              \n",
       "                                                              \n",
       "                                                              \n",
       "                                                              \n",
       "                                                              \n",
       "                                                              \n",
       "         │   ⎛ 2    2     ⎞│    ⎞   │   ⎛ 2    2     ⎞│       \n",
       "── ≠ 0 ∧ │arg⎝y  + z  + 36⎠│ ≠ π⎟ ∨ │arg⎝y  + z  + 36⎠│ < π   \n",
       "                                ⎟                             \n",
       "36                              ⎠                           dz\n",
       "                                                              \n",
       "                                                              \n",
       "                                                              \n",
       "                                                              \n",
       "    otherwise                                                 \n",
       "                                                              \n",
       "                                                              \n",
       "                                                              \n",
       "                                                              \n",
       "                                                              \n",
       "                                                              \n",
       "                                                              \n",
       "                                                              "
      ]
     },
     "execution_count": 33,
     "metadata": {},
     "output_type": "execute_result"
    }
   ],
   "source": [
    "Integral(f,(x,-oo,oo),(y,-oo,oo),(z,-oo,oo)).doit()"
   ]
  },
  {
   "cell_type": "code",
   "execution_count": 34,
   "metadata": {},
   "outputs": [],
   "source": [
    "# ACESSAR \n",
    "\n",
    "# https://github.com/bgeneto/MCA/blob/main/2023-1/notebooks/mca14-sympy.ipynb\n",
    "\n",
    "# PRA SABER MAIS SOBRE ISSO\n",
    "\n",
    "#GITHUB BGE NETO"
   ]
  }
 ],
 "metadata": {
  "kernelspec": {
   "display_name": "Python 3",
   "language": "python",
   "name": "python3"
  },
  "language_info": {
   "codemirror_mode": {
    "name": "ipython",
    "version": 3
   },
   "file_extension": ".py",
   "mimetype": "text/x-python",
   "name": "python",
   "nbconvert_exporter": "python",
   "pygments_lexer": "ipython3",
   "version": "3.10.12"
  },
  "orig_nbformat": 4
 },
 "nbformat": 4,
 "nbformat_minor": 2
}
