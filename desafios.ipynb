{
 "cells": [
  {
   "cell_type": "code",
   "execution_count": null,
   "metadata": {},
   "outputs": [],
   "source": [
    "#------LISTA DE QUESTOES -----------\n",
    "#\n",
    "#1--> https://codeforces.com/problemset/problem/1873/A?locale=en\n",
    "#\n",
    "#2--> https://codeforces.com/problemset/problem/1873/B\n",
    "#\n",
    "#3--> https://codeforces.com/problemset/problem/1873/ C\n",
    "#\n",
    "#\n",
    "#\n",
    "#\n",
    "#\n",
    "#"
   ]
  },
  {
   "cell_type": "code",
   "execution_count": 2,
   "metadata": {},
   "outputs": [
    {
     "name": "stdout",
     "output_type": "stream",
     "text": [
      "NO\n"
     ]
    }
   ],
   "source": [
    "def func():\n",
    "    entrada = input()\n",
    "    chek = entrada == 'abc' or entrada == 'bac' or entrada == 'acb'\n",
    "    print('YES' if  chek else 'NO')\n",
    "\n",
    "func()    "
   ]
  },
  {
   "cell_type": "code",
   "execution_count": 26,
   "metadata": {},
   "outputs": [
    {
     "name": "stdout",
     "output_type": "stream",
     "text": [
      "430467210\n"
     ]
    }
   ],
   "source": [
    "def func():\n",
    "    n_fatores = int(input())\n",
    "    n_mult = list(map(int,input().split()))\n",
    "    menor = n_mult.index(min(n_mult))\n",
    "    n_mult[menor] = min(n_mult) + 1\n",
    "    if n_fatores != len(n_mult):\n",
    "        print('banido')\n",
    "    else:\n",
    "        produto = 1\n",
    "        \n",
    "        for i in n_mult:\n",
    "            produto = i * produto\n",
    "        print(produto)\n",
    "\n",
    "func()\n"
   ]
  },
  {
   "cell_type": "code",
   "execution_count": 55,
   "metadata": {},
   "outputs": [
    {
     "name": "stdout",
     "output_type": "stream",
     "text": [
      "220\n"
     ]
    }
   ],
   "source": [
    "# 3--> FORMA TENTANDO AUTOMATIZAR ( MAIS COMPLICADADA)\n",
    "import numpy as np\n",
    "def localizador():\n",
    "    posicao = []\n",
    "    test_boy= int(input())\n",
    "    for i2 in range(test_boy):\n",
    "        alvo = input()\n",
    "        alvo = alvo.replace(' ','')\n",
    "        soma = 0\n",
    "        for i in alvo:\n",
    "            soma += 1\n",
    "            if i == 'X':\n",
    "                posicao.append(soma)\n",
    "\n",
    "    return posicao\n",
    "\n",
    "def pontuador(a):\n",
    "    \n",
    "    pontuador = np.arange(1,101).reshape(10,10)\n",
    "    lista = pontuador.tolist()\n",
    "    pmc= [linha[0] for linha in lista]\n",
    "    pml= lista[0]\n",
    "    pmc1= [linha[9] for linha in lista]\n",
    "    pml1= lista[9]\n",
    "    soma1 = 0\n",
    "    for i in a:\n",
    "        if i in pmc or i in pml or i in pmc1 or i in pml1:\n",
    "            soma1 += 1\n",
    "    soma1 = soma1 * 1\n",
    "\n",
    "    #-----------------------------------#\n",
    "    pmc = [linha[1] for linha in lista]\n",
    "    pmc.pop(0), pmc.pop(8)\n",
    "    pml = lista[1].copy()  \n",
    "    pml.pop(0), pml.pop(8)\n",
    "    pmc1 = [linha[8] for linha in lista]\n",
    "    pmc1.pop(0),pmc1.pop(8)\n",
    "    pml1= lista[8]\n",
    "    pml1.pop(0),pml1.pop(8)\n",
    "    soma2 = 0\n",
    "    for i in a:\n",
    "        if i in pmc or i in pml or i in pmc1 or i in pml1:\n",
    "            soma2 += 1\n",
    "    soma2 = soma2 * 2\n",
    "\n",
    "   #------------------------------------#         \n",
    "    pmc = [linha[2]for linha in lista]\n",
    "    pmc.pop(0),pmc.pop(0),pmc.pop(7),pmc.pop(6)\n",
    "    pml = lista[2].copy()\n",
    "    pml.pop(0),pml.pop(0),pml.pop(7),pml.pop(6)\n",
    "    pmc1 = [linha[7]for linha in lista]\n",
    "    pmc1.pop(0),pmc1.pop(0),pmc1.pop(7),pmc1.pop(6)\n",
    "    pml1 = lista[7].copy()\n",
    "    pml1.pop(0),pml1.pop(0),pml1.pop(7),pml1.pop(6)\n",
    "    soma3 = 0\n",
    "    for i in a:\n",
    "        if i in pmc or i in pml or i in pmc1 or i in pml1:\n",
    "            soma3 += 1\n",
    "    soma3 = soma3 * 3\n",
    "    \n",
    "    #-------------------------------------#\n",
    "\n",
    "    pmc = [linha[3]for linha in lista]\n",
    "    pmc.pop(0),pmc.pop(0),pmc.pop(0),pmc.pop(6),pmc.pop(5),pmc.pop(4)\n",
    "    pml = lista[3].copy()\n",
    "    pml.pop(0),pml.pop(0),pml.pop(0),pml.pop(6),pml.pop(5),pml.pop(4)\n",
    "    pmc1 = [linha[6]for linha in lista]\n",
    "    pmc1.pop(0),pmc1.pop(0),pmc1.pop(0),pmc1.pop(6),pmc1.pop(5),pmc1.pop(4)\n",
    "    pml1 = lista[6].copy()\n",
    "    pml1.pop(0),pml1.pop(0),pml1.pop(0),pml1.pop(6),pml1.pop(5),pml1.pop(4)\n",
    "    \n",
    "    soma4 = 0\n",
    "    for i in a:\n",
    "        if i in pmc or i in pml or i in pmc1 or i in pml1:\n",
    "            soma4 += 1\n",
    "    soma4 = soma4 * 4\n",
    "            \n",
    "    #-------------------------------------#\n",
    "    ultimo = [45,46,55,56]\n",
    "    soma5 = 0 \n",
    "    for i in a:\n",
    "        if i in ultimo:\n",
    "            soma5 += 1\n",
    "    soma5 = soma5*5\n",
    "             \n",
    "    print(soma1+soma2+soma3+soma4+soma5)         \n",
    "         \n",
    "a = localizador()\n",
    "pontuador(a)\n"
   ]
  },
  {
   "cell_type": "code",
   "execution_count": 57,
   "metadata": {},
   "outputs": [
    {
     "name": "stdout",
     "output_type": "stream",
     "text": [
      "220\n"
     ]
    }
   ],
   "source": [
    "# 3--> JEITO MENOS COMPLICADO\n",
    "import numpy as np\n",
    "def localizador():\n",
    "    posicao = []\n",
    "    test_boy= int(input())\n",
    "    for i2 in range(test_boy):\n",
    "        alvo = input()\n",
    "        alvo = alvo.replace(' ','')\n",
    "        soma = 0\n",
    "        for i in alvo:\n",
    "            soma += 1\n",
    "            if i == 'X':\n",
    "                posicao.append(soma)\n",
    "\n",
    "    return posicao\n",
    "\n",
    "def pontuador(a):\n",
    "    \n",
    "    pontuador = np.arange(1,101).reshape(10,10)\n",
    "    lista = pontuador.tolist()\n",
    "    lista0 = [1,11,21,31,41,51,61,71,81,91,2,3,4,5,6,7,8,9,10,20,30,40,50,60,70,80,90,100,92,93,94,95,96,97,98,99]\n",
    "    lista1 = [12,13,14,15,16,17,18,19,82,83,84,85,86,87,88,89,22,32,42,52,62,72,29,39,49,59,69,79]\n",
    "    lista2=  [23,24,25,26,27,28,73,74,75,76,77,78,33,43,53,63,38,48,58,68]\n",
    "    lista3 = [34,35,36,37,64,65,66,67,44,54,47,57]\n",
    "    lista4=  [45,46,55,56]\n",
    "    \n",
    "    soma0 = 0\n",
    "    for i in lista0:    \n",
    "        if i in a:\n",
    "            soma0+=1\n",
    "    soma0 = soma0 * 1\n",
    "    soma1 = 0\n",
    "    for i in lista1:    \n",
    "        if i in a:\n",
    "            soma1+=1\n",
    "    soma1 = soma1 * 2\n",
    "    soma2 = 0\n",
    "    for i in lista2:    \n",
    "        if i in a:\n",
    "            soma2+=1\n",
    "    soma2 = soma2 * 3\n",
    "    soma3 = 0\n",
    "    for i in lista3:    \n",
    "        if i in a:\n",
    "            soma3+=1\n",
    "    soma3 = soma3 * 4\n",
    "    soma4 = 0\n",
    "    for i in lista4:    \n",
    "        if i in a:\n",
    "            soma4+=1\n",
    "    soma4 = soma4 * 5\n",
    "    print(soma0+soma1+soma2+soma3+soma4)\n",
    "        \n",
    "a = localizador()\n",
    "pontuador(a)\n"
   ]
  }
 ],
 "metadata": {
  "kernelspec": {
   "display_name": "Python 3",
   "language": "python",
   "name": "python3"
  },
  "language_info": {
   "codemirror_mode": {
    "name": "ipython",
    "version": 3
   },
   "file_extension": ".py",
   "mimetype": "text/x-python",
   "name": "python",
   "nbconvert_exporter": "python",
   "pygments_lexer": "ipython3",
   "version": "3.10.12"
  }
 },
 "nbformat": 4,
 "nbformat_minor": 2
}
