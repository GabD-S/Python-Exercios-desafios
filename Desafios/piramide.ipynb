{
 "cells": [
  {
   "cell_type": "code",
   "execution_count": 4,
   "metadata": {},
   "outputs": [
    {
     "name": "stdout",
     "output_type": "stream",
     "text": [
      "--------------------PIRAMEDE DE DIAMANTES-----------------------------\n",
      "    1\n",
      "   123\n",
      "  12345\n",
      " 1234567\n",
      "123456789\n",
      " 1234567\n",
      "  12345\n",
      "   123\n",
      "    1\n"
     ]
    }
   ],
   "source": [
    "rows = int(input())\n",
    "print('--------------------PIRAMEDE DE DIAMANTES-----------------------------')\n",
    "for i in range(1, rows+1):\n",
    "    for j in range(1, rows-i+1):\n",
    "        print(end=' ')\n",
    "    for k in range(1, (2*i)):\n",
    "        print(k, end='')\n",
    "    print()\n",
    "for i in range(rows-1, 0, -1):\n",
    "    for j in range(1, (rows-i+1)):\n",
    "        print(end=' ')\n",
    "    for k in range(1, (2*i)):\n",
    "        print(k, end='')\n",
    "    print()"
   ]
  }
 ],
 "metadata": {
  "kernelspec": {
   "display_name": "Python 3",
   "language": "python",
   "name": "python3"
  },
  "language_info": {
   "codemirror_mode": {
    "name": "ipython",
    "version": 3
   },
   "file_extension": ".py",
   "mimetype": "text/x-python",
   "name": "python",
   "nbconvert_exporter": "python",
   "pygments_lexer": "ipython3",
   "version": "3.10.12"
  }
 },
 "nbformat": 4,
 "nbformat_minor": 2
}
