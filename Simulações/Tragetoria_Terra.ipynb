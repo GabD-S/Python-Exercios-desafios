{
 "cells": [
  {
   "cell_type": "code",
   "execution_count": 2,
   "metadata": {},
   "outputs": [
    {
     "name": "stderr",
     "output_type": "stream",
     "text": [
      "2024-06-12 10:33:51.676 \n",
      "  \u001b[33m\u001b[1mWarning:\u001b[0m to view this Streamlit app on a browser, run it with the following\n",
      "  command:\n",
      "\n",
      "    streamlit run /usr/lib/python3/dist-packages/ipykernel_launcher.py [ARGUMENTS]\n"
     ]
    },
    {
     "data": {
      "text/plain": [
       "DeltaGenerator()"
      ]
     },
     "execution_count": 2,
     "metadata": {},
     "output_type": "execute_result"
    },
    {
     "data": {
      "image/png": "[encoded data removed]",
      "text/plain": [
       "<Figure size 432x288 with 1 Axes>"
      ]
     },
     "metadata": {
      "needs_background": "light"
     },
     "output_type": "display_data"
    }
   ],
   "source": [
    "import streamlit as st\n",
    "import streamlit.components.v1 as components\n",
    "import numpy as np\n",
    "import matplotlib.pyplot as plt\n",
    "from matplotlib.animation import FuncAnimation\n",
    "import math\n",
    "\n",
    "\n",
    "# Constants\n",
    "a = 1.0  \n",
    "e = 0.0167\n",
    "b = math.sqrt(1 - a**2*e**2)  # 0.5  # Semi-minor axis of Earth's orbit\n",
    "theta = np.linspace(0, 2*np.pi, 100)  # Angle values for one orbit\n",
    "\n",
    "\n",
    "def calculate_position(frame):\n",
    "    x = a * np.cos(theta[frame])\n",
    "    y = b * np.sin(theta[frame])\n",
    "    return x, y\n",
    "\n",
    "def update2(frame):\n",
    "    x, y = calculate_position(frame)\n",
    "    scatter.set_offsets(np.c_[x, y])\n",
    "    line.set_data(a * np.cos(theta[:frame+1]), b * np.sin(theta[:frame+1]))\n",
    "    return scatter,\n",
    "\n",
    "fig, ax = plt.subplots()\n",
    "ax.set_xlim(-1.5, 1.5)\n",
    "ax.set_ylim(-1.5, 1.5)\n",
    "\n",
    "scatter = ax.scatter([], [], color='blue')\n",
    "sun = ax.scatter([0-e], [0], color='yellow', s=200)\n",
    "line, = ax.plot([], [], '--', color='red')\n",
    "\n",
    "def init():\n",
    "    scatter.set_offsets([])\n",
    "    return scatter,\n",
    "\n",
    "\n",
    "ani = FuncAnimation(fig, update2, frames=len(theta), blit=True)\n",
    "\n",
    "# salva a animação num arquivo html\n",
    "with open(\"myvideo2.html\", \"w\") as fname:\n",
    "  print(ani.to_jshtml(), file=fname)\n",
    "\n",
    "# abre o arquivo de animação\n",
    "with open(\"myvideo2.html\", \"r\") as fname:\n",
    "    source_code = fname.read()\n",
    "\n",
    "components.html(source_code, height=900, width=900)"
   ]
  }
 ],
 "metadata": {
  "kernelspec": {
   "display_name": "Python 3",
   "language": "python",
   "name": "python3"
  },
  "language_info": {
   "codemirror_mode": {
    "name": "ipython",
    "version": 3
   },
   "file_extension": ".py",
   "mimetype": "text/x-python",
   "name": "python",
   "nbconvert_exporter": "python",
   "pygments_lexer": "ipython3",
   "version": "3.10.12"
  }
 },
 "nbformat": 4,
 "nbformat_minor": 2
}
