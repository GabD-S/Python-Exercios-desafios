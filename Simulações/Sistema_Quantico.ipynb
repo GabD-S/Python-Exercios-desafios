{
 "cells": [
  {
   "cell_type": "code",
   "execution_count": 1,
   "metadata": {},
   "outputs": [
    {
     "name": "stdout",
     "output_type": "stream",
     "text": [
      "auto_valo1--> [[ 0.15518679+0.0775934j ]\n",
      " [-0.45389679+0.01814768j]\n",
      " [-0.03629536+0.18157919j]\n",
      " [ 0.85396507+0.j        ]]\n",
      "\n",
      "auto_valo2--> [[ 0.79542009+0.j        ]\n",
      " [-0.16010406+0.27041391j]\n",
      " [-0.43587869-0.11030985j]\n",
      " [-0.23046282+0.11523141j]]\n",
      "\n",
      "auto_valo3--> [[0.37925353+0.2717643j ]\n",
      " [0.77476598+0.j        ]\n",
      " [0.25315796-0.03817949j]\n",
      " [0.33706601+0.05374462j]]\n",
      "\n",
      "auto_valo4--> [[ 0.30236311-0.16760274j]\n",
      " [-0.30625283+0.02895265j]\n",
      " [ 0.83546785+0.j        ]\n",
      " [-0.16760274+0.2444578j ]]\n",
      "\n",
      "\n",
      "PSI_1vec\n",
      "[[ 0.15518679+0.0775934j ]\n",
      " [-0.45389679+0.01814768j]\n",
      " [-0.03629536+0.18157919j]\n",
      " [ 0.85396507+0.j        ]]\n",
      "\n",
      "PSI_2vec\n",
      "[[ 0.79542009+0.j        ]\n",
      " [-0.16010406+0.27041391j]\n",
      " [-0.43587869-0.11030985j]\n",
      " [-0.23046282+0.11523141j]]\n",
      "\n",
      "PSI_3vec\n",
      "[[0.37925353+0.2717643j ]\n",
      " [0.77476598+0.j        ]\n",
      " [0.25315796-0.03817949j]\n",
      " [0.33706601+0.05374462j]]\n",
      "\n",
      "PSI_4vec\n",
      "[[ 0.30236311-0.16760274j]\n",
      " [-0.30625283+0.02895265j]\n",
      " [ 0.83546785+0.j        ]\n",
      " [-0.16760274+0.2444578j ]]\n"
     ]
    }
   ],
   "source": [
    "import numpy as np\n",
    "import cmath\n",
    "\n",
    "mati_demonio = np.array([\n",
    "    [3, 1 + 1j, 1, 0],\n",
    "    [1 - 1j, 4, 0, 2],\n",
    "    [1, 0, 4, -1j],\n",
    "    [0, 2, 1j, 1]\n",
    "], dtype=complex)\n",
    "\n",
    "w, psi = np.linalg.eig(mati_demonio)\n",
    "autova = [complex(w[i].real, w[i].imag) for i in range(len(w))]\n",
    "\n",
    "autova = []\n",
    "for i in range(len(psi)):\n",
    "    autova.append(psi[:, i].reshape((4, 1)))\n",
    "\n",
    "for i, val in enumerate(autova):\n",
    "    print(f\"auto_valo{i+1}--> {val}\")\n",
    "    print()\n",
    "\n",
    "for i, vec in enumerate(autova):\n",
    "    print(f\"\\nPSI_{i+1}vec\")\n",
    "    print(vec)"
   ]
  },
  {
   "cell_type": "code",
   "execution_count": 2,
   "metadata": {},
   "outputs": [
    {
     "name": "stdout",
     "output_type": "stream",
     "text": [
      "Autovalor 1: (-0.275664329408222+1.0937080247772951e-16j)\n",
      "Autovetor 1: [ 0.15518679+0.0775934j  -0.45389679+0.01814768j -0.03629536+0.18157919j\n",
      "  0.85396507+0.j        ]\n",
      "\n",
      "Autovalor 2: (1.9107684547047494+6.106632120115437e-17j)\n",
      "Autovetor 2: [ 0.79542009+0.j         -0.16010406+0.27041391j -0.43587869-0.11030985j\n",
      " -0.23046282+0.11523141j]\n",
      "\n",
      "Autovalor 3: (5.71038725359679-1.4736843928587314e-16j)\n",
      "Autovetor 3: [0.37925353+0.2717643j  0.77476598+0.j         0.25315796-0.03817949j\n",
      " 0.33706601+0.05374462j]\n",
      "\n",
      "Autovalor 4: (4.654508621106686-7.857983562426832e-17j)\n",
      "Autovetor 4: [ 0.30236311-0.16760274j -0.30625283+0.02895265j  0.83546785+0.j\n",
      " -0.16760274+0.2444578j ]\n",
      "\n",
      "correto\n",
      "correto\n",
      "correto\n",
      "correto\n"
     ]
    }
   ],
   "source": [
    "import numpy as np\n",
    "\n",
    "H = np.array([[3, 1 + 1j, 1, 0],\n",
    "              [1 - 1j, 4, 0, 2],\n",
    "              [1, 0, 4, -1j],\n",
    "              [0, 2, 1j, 1]])\n",
    "\n",
    "autovalores, autovetores = np.linalg.eig(H)\n",
    "for i in range(len(autovalores)):\n",
    "    print(f\"Autovalor {i+1}: {autovalores[i]}\")\n",
    "    print(f\"Autovetor {i+1}: {autovetores[:, i]}\")\n",
    "    print()\n",
    "\n",
    "for i in range(len(autovalores)):\n",
    "    lado_esquerdo = autovalores[i] * autovetores[:, i]\n",
    "    lado_direito = np.dot(H, autovetores[:, i])\n",
    "    diferenca = lado_esquerdo - lado_direito\n",
    "    if np.all(np.abs(diferenca) < 1e-10):\n",
    "        print(\"correto\")\n",
    "    else:\n",
    "        print(\"errado\")"
   ]
  }
 ],
 "metadata": {
  "kernelspec": {
   "display_name": "Python 3",
   "language": "python",
   "name": "python3"
  },
  "language_info": {
   "codemirror_mode": {
    "name": "ipython",
    "version": 3
   },
   "file_extension": ".py",
   "mimetype": "text/x-python",
   "name": "python",
   "nbconvert_exporter": "python",
   "pygments_lexer": "ipython3",
   "version": "3.10.12"
  }
 },
 "nbformat": 4,
 "nbformat_minor": 2
}
