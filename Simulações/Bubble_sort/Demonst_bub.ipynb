{
 "cells": [
  {
   "cell_type": "code",
   "execution_count": 25,
   "metadata": {},
   "outputs": [],
   "source": [
    "import random as rd\n",
    "import matplotlib.pyplot as plt\n",
    "import time\n",
    "import numpy as np\n",
    "from PIL import Image\n",
    "import os\n",
    "import itertools as it"
   ]
  },
  {
   "cell_type": "code",
   "execution_count": 26,
   "metadata": {},
   "outputs": [
    {
     "name": "stdout",
     "output_type": "stream",
     "text": [
      "{1: 53, 2: 48, 3: 64, 4: 55, 5: 52, 6: 40, 7: 47, 8: 68, 9: 43, 10: 47, 11: 49, 12: 50, 13: 35, 14: 40, 15: 44, 16: 57, 17: 52, 18: 36, 19: 63}\n"
     ]
    }
   ],
   "source": [
    "maior = 0\n",
    "O_quao_grande_eu_quiser = 20\n",
    "A_repeticao_que_eu_quiser = 1000\n",
    "maior_numero = {}\n",
    "chaves = {}\n",
    "\n",
    "numeros_aleatorios = []\n",
    "for i in range(1,A_repeticao_que_eu_quiser):\n",
    "    numeros_aleatorios.append(rd.randint(1, O_quao_grande_eu_quiser))\n",
    "    \n",
    "for i in range(1,O_quao_grande_eu_quiser):\n",
    "    chaves[i] = numeros_aleatorios.count(i)\n",
    "\n",
    "print(chaves)\n"
   ]
  },
  {
   "cell_type": "code",
   "execution_count": 33,
   "metadata": {},
   "outputs": [
    {
     "data": {
      "image/png": "[encoded data removed]",
      "text/plain": [
       "<Figure size 640x480 with 1 Axes>"
      ]
     },
     "metadata": {},
     "output_type": "display_data"
    }
   ],
   "source": [
    "import matplotlib.pyplot as plt\n",
    "\n",
    "counts, bins, patches = plt.hist(numeros_aleatorios, bins=range(1, O_quao_grande_eu_quiser + 2), edgecolor='black', align='left')\n",
    "\n",
    "plt.xlabel('Valor')\n",
    "plt.ylabel('Frequência')\n",
    "plt.title('Histograma dos Números Aleatórios')\n",
    "plt.xticks(range(0, O_quao_grande_eu_quiser + 1, 1))\n",
    "\n",
    "for count, bin, patch in zip(counts, bins, patches):\n",
    "    height = patch.get_height()\n",
    "    plt.text(patch.get_x() + patch.get_width() / 2, height, int(count), ha='center', va='bottom', fontsize=8)\n",
    "\n",
    "plt.show()\n"
   ]
  },
  {
   "cell_type": "code",
   "execution_count": 28,
   "metadata": {},
   "outputs": [
    {
     "name": "stdout",
     "output_type": "stream",
     "text": [
      "O maior valor é 8 com 68 vezes\n"
     ]
    }
   ],
   "source": [
    "Max_val = 0\n",
    "\n",
    "for i in range(1,O_quao_grande_eu_quiser):\n",
    "    if Max_val < chaves[i]:\n",
    "        Max_val = chaves[i]\n",
    "        index = i\n",
    "\n",
    "print(f'O maior valor é {index} com {Max_val} vezes')"
   ]
  },
  {
   "cell_type": "code",
   "execution_count": 29,
   "metadata": {},
   "outputs": [],
   "source": [
    "Colador = [0] * A_repeticao_que_eu_quiser\n",
    "for i in range(1,O_quao_grande_eu_quiser):\n",
    "    Colador[chaves[i]] = i\n"
   ]
  },
  {
   "cell_type": "code",
   "execution_count": 30,
   "metadata": {},
   "outputs": [
    {
     "name": "stdout",
     "output_type": "stream",
     "text": [
      "São necessárias 16 trocas e 80 passos\n"
     ]
    }
   ],
   "source": [
    "ordem = []\n",
    "listas_das_listas = []\n",
    "for i in range(1,11):\n",
    "    ordem.append(chaves[i])\n",
    "i = 0\n",
    "passo=0\n",
    "trocas=0\n",
    "while(i < len(ordem)-1):\n",
    "    if ordem[i] < ordem[i+1]:\n",
    "        aux = ordem[i]\n",
    "        ordem[i] = ordem[i+1]\n",
    "        ordem[i+1] = aux\n",
    "        listas_das_listas.append(ordem)\n",
    "        i = 0\n",
    "        trocas+=1\n",
    "    else:\n",
    "        i+=1\n",
    "    passo+=1\n",
    "print(f'São necessárias {trocas} trocas e {passo} passos')\n"
   ]
  },
  {
   "cell_type": "code",
   "execution_count": 31,
   "metadata": {},
   "outputs": [
    {
     "name": "stdout",
     "output_type": "stream",
     "text": [
      "GIF criado com sucesso!\n"
     ]
    }
   ],
   "source": [
    "def plot_histogram(data, step, temp_dir):\n",
    "    plt.figure(figsize=(8, 6))\n",
    "    plt.bar(range(len(data)), data, color='skyblue')\n",
    "    plt.title(f'Passo {step}')\n",
    "    plt.xlabel('Índice')\n",
    "    plt.ylabel('Valor')\n",
    "    plt.savefig(os.path.join(temp_dir, f'step_{step}.png'))\n",
    "    plt.close()\n",
    "\n",
    "def create_sorting_gif(ordem):\n",
    "    temp_dir = \"temp_images\"\n",
    "    os.makedirs(temp_dir, exist_ok=True)\n",
    "    filenames = []\n",
    "    plot_histogram(ordem, 0, temp_dir)\n",
    "    filenames.append(os.path.join(temp_dir, 'step_0.png'))\n",
    "    step = 1\n",
    "    listas_das_listas = [ordem.copy()]  \n",
    "    i = 0\n",
    "\n",
    "    \n",
    "    while i < len(ordem) - 1:\n",
    "        if ordem[i] < ordem[i + 1]:\n",
    "            ordem[i], ordem[i + 1] = ordem[i + 1], ordem[i]\n",
    "            listas_das_listas.append(ordem.copy())\n",
    "            plot_histogram(ordem, step, temp_dir)\n",
    "            filenames.append(os.path.join(temp_dir, f'step_{step}.png'))\n",
    "            step += 1\n",
    "            i = 0\n",
    "        else:\n",
    "            i += 1\n",
    "    \n",
    "    with Image.open(filenames[0]) as img:\n",
    "        img.save(\n",
    "            \"sorting_animation.gif\",\n",
    "            save_all=True,\n",
    "            append_images=[Image.open(f) for f in filenames[1:]],\n",
    "            duration=1000,  \n",
    "            loop=1         \n",
    "        )\n",
    "\n",
    "    for filename in filenames:\n",
    "        os.remove(filename)\n",
    "    os.rmdir(temp_dir)\n",
    "    print(\"GIF criado com sucesso!\")\n",
    "\n",
    "ordem = []\n",
    "listas_das_listas = []\n",
    "for i in range(1,O_quao_grande_eu_quiser):\n",
    "    ordem.append(chaves[i])\n",
    "\n",
    "\n",
    "create_sorting_gif(ordem)"
   ]
  },
  {
   "cell_type": "code",
   "execution_count": 32,
   "metadata": {},
   "outputs": [
    {
     "name": "stdout",
     "output_type": "stream",
     "text": [
      "Na posicao 19 temos o numero 13\n",
      "Na posicao 18 temos o numero 18\n",
      "Na posicao 17 temos o numero 14\n",
      "Na posicao 16 temos o numero 14\n",
      "Na posicao 15 temos o numero 9\n",
      "Na posicao 14 temos o numero 15\n",
      "Na posicao 13 temos o numero 10\n",
      "Na posicao 12 temos o numero 10\n",
      "Na posicao 11 temos o numero 2\n",
      "Na posicao 10 temos o numero 11\n",
      "Na posicao 9 temos o numero 12\n",
      "Na posicao 8 temos o numero 17\n",
      "Na posicao 7 temos o numero 17\n",
      "Na posicao 6 temos o numero 1\n",
      "Na posicao 5 temos o numero 4\n",
      "Na posicao 4 temos o numero 16\n",
      "Na posicao 3 temos o numero 19\n",
      "Na posicao 2 temos o numero 3\n",
      "Na posicao 1 temos o numero 8\n",
      "Posição final: [13, 18, 14, 14, 9, 15, 10, 10, 2, 11, 12, 17, 17, 1, 4, 16, 19, 3, 8]\n"
     ]
    }
   ],
   "source": [
    "posicao_final = []\n",
    "for i in range(len(ordem) - 1, -1, -1):\n",
    "    index = ordem[i]\n",
    "    \n",
    "    posicao_final.append(Colador[index])\n",
    "    print(f'Na posicao {i+1} temos o numero {posicao_final[-1]}')\n",
    "\n",
    "print('Posição final:', posicao_final)"
   ]
  }
 ],
 "metadata": {
  "kernelspec": {
   "display_name": "Python 3",
   "language": "python",
   "name": "python3"
  },
  "language_info": {
   "codemirror_mode": {
    "name": "ipython",
    "version": 3
   },
   "file_extension": ".py",
   "mimetype": "text/x-python",
   "name": "python",
   "nbconvert_exporter": "python",
   "pygments_lexer": "ipython3",
   "version": "3.12.3"
  }
 },
 "nbformat": 4,
 "nbformat_minor": 2
}
