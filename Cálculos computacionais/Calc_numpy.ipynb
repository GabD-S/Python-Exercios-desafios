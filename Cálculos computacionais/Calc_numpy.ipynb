{
 "cells": [
  {
   "cell_type": "code",
   "execution_count": 14,
   "metadata": {},
   "outputs": [
    {
     "data": {
      "text/latex": [
       "$\\displaystyle 3 \\sqrt{1230}$"
      ],
      "text/plain": [
       "3*sqrt(1230)"
      ]
     },
     "execution_count": 14,
     "metadata": {},
     "output_type": "execute_result"
    }
   ],
   "source": [
    "import sympy\n",
    "\n",
    "sympy.sqrt(123*90)"
   ]
  },
  {
   "cell_type": "code",
   "execution_count": 15,
   "metadata": {},
   "outputs": [],
   "source": [
    "from sympy import *\n",
    "\n",
    "x = symbols('X')\n",
    "\n",
    "x, y,z,t = symbols('x,y,z,t')"
   ]
  },
  {
   "cell_type": "code",
   "execution_count": 16,
   "metadata": {},
   "outputs": [
    {
     "data": {
      "text/latex": [
       "$\\displaystyle e^{x} \\sin{\\left(x \\right)} + e^{x} \\cos{\\left(x \\right)}$"
      ],
      "text/plain": [
       "exp(x)*sin(x) + exp(x)*cos(x)"
      ]
     },
     "execution_count": 16,
     "metadata": {},
     "output_type": "execute_result"
    }
   ],
   "source": [
    "diff(sin(x)*exp(x), x)\n"
   ]
  },
  {
   "cell_type": "code",
   "execution_count": 17,
   "metadata": {},
   "outputs": [
    {
     "data": {
      "text/plain": [
       "[-(-1/2 - sqrt(3)*I/2)*(sqrt(729*c**2/a**2 + 108*b**3/a**3)/2 + 27*c/(2*a))**(1/3)/3 + b/(a*(-1/2 - sqrt(3)*I/2)*(sqrt(729*c**2/a**2 + 108*b**3/a**3)/2 + 27*c/(2*a))**(1/3)),\n",
       " -(-1/2 + sqrt(3)*I/2)*(sqrt(729*c**2/a**2 + 108*b**3/a**3)/2 + 27*c/(2*a))**(1/3)/3 + b/(a*(-1/2 + sqrt(3)*I/2)*(sqrt(729*c**2/a**2 + 108*b**3/a**3)/2 + 27*c/(2*a))**(1/3)),\n",
       " -(sqrt(729*c**2/a**2 + 108*b**3/a**3)/2 + 27*c/(2*a))**(1/3)/3 + b/(a*(sqrt(729*c**2/a**2 + 108*b**3/a**3)/2 + 27*c/(2*a))**(1/3))]"
      ]
     },
     "execution_count": 17,
     "metadata": {},
     "output_type": "execute_result"
    }
   ],
   "source": [
    "a, b, c = symbols('a, b, c')\n",
    "sol = solve(a*x**3 + b*x + c, x)\n",
    "sol"
   ]
  },
  {
   "cell_type": "code",
   "execution_count": 18,
   "metadata": {},
   "outputs": [
    {
     "data": {
      "text/plain": [
       "[-(-108 + 6*sqrt(330))**(1/3)*(-1/2 - sqrt(3)*I/2)/3 + 2/((-108 + 6*sqrt(330))**(1/3)*(-1/2 - sqrt(3)*I/2)),\n",
       " 2/((-108 + 6*sqrt(330))**(1/3)*(-1/2 + sqrt(3)*I/2)) - (-108 + 6*sqrt(330))**(1/3)*(-1/2 + sqrt(3)*I/2)/3,\n",
       " -(-108 + 6*sqrt(330))**(1/3)/3 + 2/(-108 + 6*sqrt(330))**(1/3)]"
      ]
     },
     "execution_count": 18,
     "metadata": {},
     "output_type": "execute_result"
    }
   ],
   "source": [
    "coefs = {'a': 1, 'b': 2, 'c': -8}\n",
    "sol[0].subs(coefs)\n",
    "\n",
    "[s.subs(coefs) for s in sol]"
   ]
  },
  {
   "cell_type": "code",
   "execution_count": 19,
   "metadata": {},
   "outputs": [
    {
     "data": {
      "text/latex": [
       "$\\displaystyle \\frac{x^{2} + 2 x + 1}{x + 1}$"
      ],
      "text/plain": [
       "(x**2 + 2*x + 1)/(x + 1)"
      ]
     },
     "execution_count": 19,
     "metadata": {},
     "output_type": "execute_result"
    }
   ],
   "source": [
    "expression = (x**2 + 2*x + 1) / (x + 1)\n",
    "expression"
   ]
  },
  {
   "cell_type": "code",
   "execution_count": 20,
   "metadata": {},
   "outputs": [
    {
     "data": {
      "text/latex": [
       "$\\displaystyle x + 1$"
      ],
      "text/plain": [
       "x + 1"
      ]
     },
     "execution_count": 20,
     "metadata": {},
     "output_type": "execute_result"
    }
   ],
   "source": [
    "simplified_expr = simplify(expression)\n",
    "simplified_expr"
   ]
  },
  {
   "cell_type": "code",
   "execution_count": 21,
   "metadata": {},
   "outputs": [],
   "source": [
    "import sympy as sp\n",
    "\n",
    "x, y, z = symbols('x,y,z')\n"
   ]
  },
  {
   "cell_type": "code",
   "execution_count": 23,
   "metadata": {},
   "outputs": [],
   "source": [
    "f = 1 / (x**2 + y**2+z**2+36)**2"
   ]
  },
  {
   "cell_type": "code",
   "execution_count": 22,
   "metadata": {},
   "outputs": [
    {
     "data": {
      "text/latex": [
       "$\\displaystyle \\int\\limits_{-\\infty}^{\\infty} \\begin{cases} \\frac{\\pi \\left(\\int\\limits_{-\\infty}^{\\infty} \\frac{y^{2}}{\\operatorname{polar\\_lift}^{\\frac{5}{2}}{\\left(y^{2} + z^{2} + 36 \\right)}}\\, dy + \\int\\limits_{-\\infty}^{\\infty} \\frac{z^{2}}{\\operatorname{polar\\_lift}^{\\frac{5}{2}}{\\left(y^{2} + z^{2} + 36 \\right)}}\\, dy + \\int\\limits_{-\\infty}^{\\infty} \\frac{36}{\\operatorname{polar\\_lift}^{\\frac{5}{2}}{\\left(y^{2} + z^{2} + 36 \\right)}}\\, dy\\right)}{2} & \\text{for}\\: \\left(\\left|{\\arg{\\left(y^{2} + z^{2} + 36 \\right)}}\\right| < \\pi \\wedge \\frac{1}{y^{2} + z^{2} + 36} \\neq 0 \\wedge \\left|{\\arg{\\left(y^{2} + z^{2} + 36 \\right)}}\\right| \\neq \\pi\\right) \\vee \\left|{\\arg{\\left(y^{2} + z^{2} + 36 \\right)}}\\right| < \\pi \\\\\\int\\limits_{-\\infty}^{\\infty}\\int\\limits_{-\\infty}^{\\infty} \\frac{1}{\\left(x^{2} + y^{2} + z^{2} + 36\\right)^{2}}\\, dx\\, dy & \\text{otherwise} \\end{cases}\\, dz$"
      ],
      "text/plain": [
       "Integral(Piecewise((pi*(Integral(y**2/polar_lift(y**2 + z**2 + 36)**(5/2), (y, -oo, oo)) + Integral(z**2/polar_lift(y**2 + z**2 + 36)**(5/2), (y, -oo, oo)) + Integral(36/polar_lift(y**2 + z**2 + 36)**(5/2), (y, -oo, oo)))/2, (Abs(arg(y**2 + z**2 + 36)) < pi) | ((Abs(arg(y**2 + z**2 + 36)) < pi) & Ne(1/(y**2 + z**2 + 36), 0) & Ne(Abs(arg(y**2 + z**2 + 36)), pi))), (Integral((x**2 + y**2 + z**2 + 36)**(-2), (x, -oo, oo), (y, -oo, oo)), True)), (z, -oo, oo))"
      ]
     },
     "execution_count": 22,
     "metadata": {},
     "output_type": "execute_result"
    }
   ],
   "source": [
    "Integral(f, (x,-oo,oo),(y,-oo,oo),(z,-oo,oo)).doit()"
   ]
  }
 ],
 "metadata": {
  "kernelspec": {
   "display_name": "Python 3",
   "language": "python",
   "name": "python3"
  },
  "language_info": {
   "codemirror_mode": {
    "name": "ipython",
    "version": 3
   },
   "file_extension": ".py",
   "mimetype": "text/x-python",
   "name": "python",
   "nbconvert_exporter": "python",
   "pygments_lexer": "ipython3",
   "version": "3.10.12"
  }
 },
 "nbformat": 4,
 "nbformat_minor": 2
}
